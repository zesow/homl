{
 "cells": [
  {
   "cell_type": "code",
   "execution_count": 2,
   "metadata": {},
   "outputs": [],
   "source": [
    "# To support both python 2 and python 3\n",
    "from __future__ import division, print_function, unicode_literals\n",
    "\n",
    "# Common imports\n",
    "import numpy as np\n",
    "import os\n",
    "\n",
    "# to make this notebook's output stable across runs\n",
    "np.random.seed(42)\n",
    "\n",
    "# To plot pretty figures\n",
    "%matplotlib inline\n",
    "import matplotlib\n",
    "import matplotlib.pyplot as plt\n",
    "plt.rcParams['axes.labelsize'] = 14\n",
    "plt.rcParams['xtick.labelsize'] = 12\n",
    "plt.rcParams['ytick.labelsize'] = 12\n",
    "\n",
    "# Where to save the figures\n",
    "PROJECT_ROOT_DIR = \".\"\n",
    "CHAPTER_ID = \"training_linear_models\"\n",
    "\n",
    "def save_fig(fig_id, tight_layout=True):\n",
    "    path = os.path.join(PROJECT_ROOT_DIR, \"images\", CHAPTER_ID, fig_id + \".png\")\n",
    "    print(\"Saving figure\", fig_id)\n",
    "    if tight_layout:\n",
    "        plt.tight_layout()\n",
    "    plt.savefig(path, format='png', dpi=300)\n",
    "\n",
    "# Ignore useless warnings (see SciPy issue #5998)\n",
    "import warnings\n",
    "warnings.filterwarnings(action=\"ignore\", module=\"scipy\", message=\"^internal gelsd\")"
   ]
  },
  {
   "cell_type": "markdown",
   "metadata": {},
   "source": [
    "2차방정식으로 비선형 데이터를 생성"
   ]
  },
  {
   "cell_type": "code",
   "execution_count": 37,
   "metadata": {},
   "outputs": [
    {
     "data": {
      "text/plain": [
       "array([[-1.48920565],\n",
       "       [-0.92582404],\n",
       "       [-1.9104137 ],\n",
       "       [ 2.45070337],\n",
       "       [ 0.50035077],\n",
       "       [-0.5948915 ],\n",
       "       [-0.22796518],\n",
       "       [ 2.68370004],\n",
       "       [-2.07989158],\n",
       "       [ 0.51737899],\n",
       "       [ 0.03533207],\n",
       "       [ 0.66872541],\n",
       "       [-2.8913389 ],\n",
       "       [ 2.23274345],\n",
       "       [ 2.59270969],\n",
       "       [ 0.3907991 ],\n",
       "       [ 1.17990494],\n",
       "       [ 2.53499629],\n",
       "       [ 1.24343181],\n",
       "       [-2.08476574],\n",
       "       [ 0.45773016],\n",
       "       [ 0.64029028],\n",
       "       [-0.45521597],\n",
       "       [ 1.41866541],\n",
       "       [ 2.60620209],\n",
       "       [ 2.55341108],\n",
       "       [-0.29496377],\n",
       "       [-2.32057172],\n",
       "       [ 2.90904719],\n",
       "       [ 2.03338852],\n",
       "       [-2.25202391],\n",
       "       [ 2.5250513 ],\n",
       "       [ 2.21937817],\n",
       "       [ 0.11302834],\n",
       "       [ 0.54765261],\n",
       "       [-0.60598378],\n",
       "       [-2.67143017],\n",
       "       [-0.98881655],\n",
       "       [ 1.81712069],\n",
       "       [-2.97220786],\n",
       "       [-0.99900497],\n",
       "       [-0.61098784],\n",
       "       [ 0.22437362],\n",
       "       [ 2.5191337 ],\n",
       "       [-0.92192403],\n",
       "       [-0.91828079],\n",
       "       [ 1.42500749],\n",
       "       [-0.28669235],\n",
       "       [-1.65237106],\n",
       "       [-0.2853629 ],\n",
       "       [-2.15485788],\n",
       "       [-1.94167808],\n",
       "       [-0.00979336],\n",
       "       [-0.4864473 ],\n",
       "       [ 2.48907541],\n",
       "       [-0.82563661],\n",
       "       [ 0.4835301 ],\n",
       "       [ 0.79358573],\n",
       "       [-2.92143326],\n",
       "       [ 0.98122423],\n",
       "       [-1.9317842 ],\n",
       "       [ 2.7664219 ],\n",
       "       [-2.10802363],\n",
       "       [-0.51225526],\n",
       "       [-2.48790199],\n",
       "       [ 2.98124551],\n",
       "       [ 0.01317006],\n",
       "       [ 0.5723101 ],\n",
       "       [-2.59754114],\n",
       "       [ 1.49976282],\n",
       "       [-1.74056644],\n",
       "       [ 2.38832574],\n",
       "       [-1.76916216],\n",
       "       [-1.85587368],\n",
       "       [-2.78070199],\n",
       "       [-0.16759833],\n",
       "       [ 0.3890468 ],\n",
       "       [-2.60574816],\n",
       "       [ 1.6531657 ],\n",
       "       [-0.28026699],\n",
       "       [ 0.14634162],\n",
       "       [-0.35542352],\n",
       "       [-0.59542163],\n",
       "       [ 0.35784199],\n",
       "       [-2.06855852],\n",
       "       [-1.90843122],\n",
       "       [ 2.17071373],\n",
       "       [ 2.67669277],\n",
       "       [-0.7601441 ],\n",
       "       [-1.37553196],\n",
       "       [ 0.86399726],\n",
       "       [-0.54759497],\n",
       "       [-2.84768187],\n",
       "       [-2.06308442],\n",
       "       [ 1.29583337],\n",
       "       [ 0.95354365],\n",
       "       [-2.83742404],\n",
       "       [-1.66816703],\n",
       "       [-1.61355122],\n",
       "       [ 1.03135646]])"
      ]
     },
     "execution_count": 37,
     "metadata": {},
     "output_type": "execute_result"
    }
   ],
   "source": [
    "m = 100\n",
    "X = 6 * np.random.rand(m,1) - 3\n",
    "y = 0.5 * X**2 + X +2 + np.random.randn(m,1)\n",
    "X"
   ]
  },
  {
   "cell_type": "code",
   "execution_count": 38,
   "metadata": {},
   "outputs": [],
   "source": [
    "from sklearn.preprocessing import PolynomialFeatures"
   ]
  },
  {
   "cell_type": "code",
   "execution_count": 39,
   "metadata": {},
   "outputs": [
    {
     "data": {
      "text/plain": [
       "PolynomialFeatures(degree=2, include_bias=False, interaction_only=False)"
      ]
     },
     "execution_count": 39,
     "metadata": {},
     "output_type": "execute_result"
    }
   ],
   "source": [
    "poly_features = PolynomialFeatures(degree=2, include_bias=False)\n",
    "poly_features"
   ]
  },
  {
   "cell_type": "code",
   "execution_count": 40,
   "metadata": {},
   "outputs": [
    {
     "data": {
      "text/plain": [
       "array([[-1.48920565e+00,  2.21773346e+00],\n",
       "       [-9.25824039e-01,  8.57150151e-01],\n",
       "       [-1.91041370e+00,  3.64968050e+00],\n",
       "       [ 2.45070337e+00,  6.00594700e+00],\n",
       "       [ 5.00350769e-01,  2.50350892e-01],\n",
       "       [-5.94891499e-01,  3.53895896e-01],\n",
       "       [-2.27965178e-01,  5.19681224e-02],\n",
       "       [ 2.68370004e+00,  7.20224589e+00],\n",
       "       [-2.07989158e+00,  4.32594899e+00],\n",
       "       [ 5.17378992e-01,  2.67681021e-01],\n",
       "       [ 3.53320733e-02,  1.24835540e-03],\n",
       "       [ 6.68725413e-01,  4.47193677e-01],\n",
       "       [-2.89133890e+00,  8.35984062e+00],\n",
       "       [ 2.23274345e+00,  4.98514333e+00],\n",
       "       [ 2.59270969e+00,  6.72214356e+00],\n",
       "       [ 3.90799102e-01,  1.52723938e-01],\n",
       "       [ 1.17990494e+00,  1.39217568e+00],\n",
       "       [ 2.53499629e+00,  6.42620618e+00],\n",
       "       [ 1.24343181e+00,  1.54612266e+00],\n",
       "       [-2.08476574e+00,  4.34624820e+00],\n",
       "       [ 4.57730161e-01,  2.09516900e-01],\n",
       "       [ 6.40290278e-01,  4.09971640e-01],\n",
       "       [-4.55215972e-01,  2.07221581e-01],\n",
       "       [ 1.41866541e+00,  2.01261156e+00],\n",
       "       [ 2.60620209e+00,  6.79228933e+00],\n",
       "       [ 2.55341108e+00,  6.51990813e+00],\n",
       "       [-2.94963772e-01,  8.70036265e-02],\n",
       "       [-2.32057172e+00,  5.38505313e+00],\n",
       "       [ 2.90904719e+00,  8.46255558e+00],\n",
       "       [ 2.03338852e+00,  4.13466887e+00],\n",
       "       [-2.25202391e+00,  5.07161170e+00],\n",
       "       [ 2.52505130e+00,  6.37588405e+00],\n",
       "       [ 2.21937817e+00,  4.92563947e+00],\n",
       "       [ 1.13028343e-01,  1.27754063e-02],\n",
       "       [ 5.47652614e-01,  2.99923386e-01],\n",
       "       [-6.05983777e-01,  3.67216338e-01],\n",
       "       [-2.67143017e+00,  7.13653914e+00],\n",
       "       [-9.88816550e-01,  9.77758170e-01],\n",
       "       [ 1.81712069e+00,  3.30192761e+00],\n",
       "       [-2.97220786e+00,  8.83401957e+00],\n",
       "       [-9.99004970e-01,  9.98010930e-01],\n",
       "       [-6.10987838e-01,  3.73306139e-01],\n",
       "       [ 2.24373618e-01,  5.03435203e-02],\n",
       "       [ 2.51913370e+00,  6.34603459e+00],\n",
       "       [-9.21924034e-01,  8.49943924e-01],\n",
       "       [-9.18280789e-01,  8.43239607e-01],\n",
       "       [ 1.42500749e+00,  2.03064634e+00],\n",
       "       [-2.86692355e-01,  8.21925062e-02],\n",
       "       [-1.65237106e+00,  2.73033013e+00],\n",
       "       [-2.85362903e-01,  8.14319865e-02],\n",
       "       [-2.15485788e+00,  4.64341247e+00],\n",
       "       [-1.94167808e+00,  3.77011377e+00],\n",
       "       [-9.79336356e-03,  9.59099699e-05],\n",
       "       [-4.86447303e-01,  2.36630979e-01],\n",
       "       [ 2.48907541e+00,  6.19549638e+00],\n",
       "       [-8.25636605e-01,  6.81675804e-01],\n",
       "       [ 4.83530102e-01,  2.33801359e-01],\n",
       "       [ 7.93585728e-01,  6.29778307e-01],\n",
       "       [-2.92143326e+00,  8.53477230e+00],\n",
       "       [ 9.81224232e-01,  9.62800994e-01],\n",
       "       [-1.93178420e+00,  3.73179019e+00],\n",
       "       [ 2.76642190e+00,  7.65309016e+00],\n",
       "       [-2.10802363e+00,  4.44376364e+00],\n",
       "       [-5.12255258e-01,  2.62405449e-01],\n",
       "       [-2.48790199e+00,  6.18965632e+00],\n",
       "       [ 2.98124551e+00,  8.88782480e+00],\n",
       "       [ 1.31700620e-02,  1.73450533e-04],\n",
       "       [ 5.72310104e-01,  3.27538855e-01],\n",
       "       [-2.59754114e+00,  6.74721995e+00],\n",
       "       [ 1.49976282e+00,  2.24928852e+00],\n",
       "       [-1.74056644e+00,  3.02957154e+00],\n",
       "       [ 2.38832574e+00,  5.70409982e+00],\n",
       "       [-1.76916216e+00,  3.12993474e+00],\n",
       "       [-1.85587368e+00,  3.44426710e+00],\n",
       "       [-2.78070199e+00,  7.73230357e+00],\n",
       "       [-1.67598329e-01,  2.80892000e-02],\n",
       "       [ 3.89046800e-01,  1.51357412e-01],\n",
       "       [-2.60574816e+00,  6.78992349e+00],\n",
       "       [ 1.65316570e+00,  2.73295683e+00],\n",
       "       [-2.80266992e-01,  7.85495865e-02],\n",
       "       [ 1.46341616e-01,  2.14158686e-02],\n",
       "       [-3.55423518e-01,  1.26325877e-01],\n",
       "       [-5.95421635e-01,  3.54526923e-01],\n",
       "       [ 3.57841988e-01,  1.28050888e-01],\n",
       "       [-2.06855852e+00,  4.27893437e+00],\n",
       "       [-1.90843122e+00,  3.64210971e+00],\n",
       "       [ 2.17071373e+00,  4.71199808e+00],\n",
       "       [ 2.67669277e+00,  7.16468420e+00],\n",
       "       [-7.60144102e-01,  5.77819056e-01],\n",
       "       [-1.37553196e+00,  1.89208818e+00],\n",
       "       [ 8.63997259e-01,  7.46491264e-01],\n",
       "       [-5.47594973e-01,  2.99860255e-01],\n",
       "       [-2.84768187e+00,  8.10929201e+00],\n",
       "       [-2.06308442e+00,  4.25631731e+00],\n",
       "       [ 1.29583337e+00,  1.67918413e+00],\n",
       "       [ 9.53543651e-01,  9.09245495e-01],\n",
       "       [-2.83742404e+00,  8.05097521e+00],\n",
       "       [-1.66816703e+00,  2.78278123e+00],\n",
       "       [-1.61355122e+00,  2.60354754e+00],\n",
       "       [ 1.03135646e+00,  1.06369615e+00]])"
      ]
     },
     "execution_count": 40,
     "metadata": {},
     "output_type": "execute_result"
    }
   ],
   "source": [
    "# 원래 X 값과 그 제곱.\n",
    "X_poly = poly_features.fit_transform(X)\n",
    "X_poly"
   ]
  },
  {
   "cell_type": "code",
   "execution_count": 41,
   "metadata": {},
   "outputs": [
    {
     "data": {
      "text/plain": [
       "array([-1.48920565])"
      ]
     },
     "execution_count": 41,
     "metadata": {},
     "output_type": "execute_result"
    }
   ],
   "source": [
    "X[0]"
   ]
  },
  {
   "cell_type": "code",
   "execution_count": 42,
   "metadata": {},
   "outputs": [
    {
     "data": {
      "text/plain": [
       "array([-1.48920565,  2.21773346])"
      ]
     },
     "execution_count": 42,
     "metadata": {},
     "output_type": "execute_result"
    }
   ],
   "source": [
    "X_poly[0]"
   ]
  },
  {
   "cell_type": "code",
   "execution_count": 43,
   "metadata": {},
   "outputs": [
    {
     "data": {
      "text/plain": [
       "LinearRegression(copy_X=True, fit_intercept=True, n_jobs=1, normalize=False)"
      ]
     },
     "execution_count": 43,
     "metadata": {},
     "output_type": "execute_result"
    }
   ],
   "source": [
    "from sklearn import linear_model\n",
    "lin_reg = linear_model.LinearRegression()\n",
    "lin_reg.fit(X_poly,y)"
   ]
  },
  {
   "cell_type": "code",
   "execution_count": 44,
   "metadata": {},
   "outputs": [
    {
     "data": {
      "text/plain": [
       "(array([1.94414285]), array([[1.03073011, 0.51082943]]))"
      ]
     },
     "execution_count": 44,
     "metadata": {},
     "output_type": "execute_result"
    }
   ],
   "source": [
    "lin_reg.intercept_,lin_reg.coef_"
   ]
  },
  {
   "cell_type": "code",
   "execution_count": 45,
   "metadata": {},
   "outputs": [
    {
     "data": {
      "image/png": "[encoded data removed]",
      "text/plain": [
       "<Figure size 432x288 with 1 Axes>"
      ]
     },
     "metadata": {},
     "output_type": "display_data"
    }
   ],
   "source": [
    "X_new=np.linspace(-3, 3, 100).reshape(100, 1)\n",
    "X_new_poly = poly_features.transform(X_new)\n",
    "y_new = lin_reg.predict(X_new_poly)\n",
    "plt.plot(X, y, \"b.\")\n",
    "plt.plot(X_new, y_new, \"r-\", linewidth=2, label=\"Predictions\")\n",
    "plt.xlabel(\"$x_1$\", fontsize=18)\n",
    "plt.ylabel(\"$y$\", rotation=0, fontsize=18)\n",
    "plt.legend(loc=\"upper left\", fontsize=14)\n",
    "plt.axis([-3, 3, 0, 10])\n",
    "#save_fig(\"quadratic_predictions_plot\")\n",
    "plt.show()"
   ]
  },
  {
   "cell_type": "code",
   "execution_count": null,
   "metadata": {},
   "outputs": [],
   "source": []
  }
 ],
 "metadata": {
  "kernelspec": {
   "display_name": "Python 2",
   "language": "python",
   "name": "python2"
  },
  "language_info": {
   "codemirror_mode": {
    "name": "ipython",
    "version": 2
   },
   "file_extension": ".py",
   "mimetype": "text/x-python",
   "name": "python",
   "nbconvert_exporter": "python",
   "pygments_lexer": "ipython2",
   "version": "2.7.15"
  }
 },
 "nbformat": 4,
 "nbformat_minor": 2
}
